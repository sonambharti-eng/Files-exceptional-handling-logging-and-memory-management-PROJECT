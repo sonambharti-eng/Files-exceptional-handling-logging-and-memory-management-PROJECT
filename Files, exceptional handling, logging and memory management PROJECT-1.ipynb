{
 "cells": [
  {
   "cell_type": "markdown",
   "id": "5dcfbec0",
   "metadata": {},
   "source": [
    "# Files, exceptional handling, logging and memory management Questions\n"
   ]
  },
  {
   "cell_type": "markdown",
   "id": "b24db550",
   "metadata": {},
   "source": [
    "## Q1. What is the difference between interpreted and compiled languages?\n"
   ]
  },
  {
   "cell_type": "markdown",
   "id": "93e1faaf",
   "metadata": {},
   "source": [
    "## Compiled Languages\n",
    "                     Compiled languages are converted directly into machine code that the processor can execute. As a result, they tend to be faster and more efficient to execute than interpreted languages. They also give the developer more control over hardware aspects, like memory management and CPU usage.\n",
    "\n",
    "Compiled languages need a “build” step – they need to be manually compiled first. You need to “rebuild” the program every time you need to make a change. In our hummus example, the entire translation is written before it gets to you. If the original author decides that he wants to use a different kind of olive oil, the entire recipe would need to be translated again and resent to you.\n",
    "\n",
    "Examples of pure compiled languages are C, C++, Erlang, Haskell, Rust, and Go.\n",
    "\n",
    "## Interpreted Languages\n",
    "                        Interpreters run through a program line by line and execute each command. Here, if the author decides he wants to use a different kind of olive oil, he could scratch the old one out and add the new one. Your translator friend can then convey that change to you as it happens.\n",
    "\n",
    "Interpreted languages were once significantly slower than compiled languages. But, with the development of just-in-time compilation, that gap is shrinking.\n",
    "\n",
    "Examples of common interpreted languages are PHP, Ruby, Python, and JavaScript."
   ]
  },
  {
   "cell_type": "markdown",
   "id": "dd00bc14",
   "metadata": {},
   "source": [
    "# Q2.What is exception handling in Python?"
   ]
  },
  {
   "cell_type": "markdown",
   "id": "e3777c6a",
   "metadata": {
    "jp-MarkdownHeadingCollapsed": true
   },
   "source": [
    "Exception handling is a technique in Python for dealing with errors that occur during program execution. It entails spotting potential error situations, responding appropriately to exceptions when they arise, and identifying possible error conditions. Using the try and except keywords, Python provides a structured approach to exception handling.\n",
    "\n",
    "Various built-in Python exceptions can be thrown when an error occurs during program execution. Here are some of the most popular types of Python exceptions:\n",
    "\n",
    "1. SyntaxError: When the interpreter comes across a syntactic problem in the code, such as a misspelled word, a missing colon, or an unbalanced pair of parentheses, this exception is raised.\n",
    "2. TypeError: When an operation or function is done to an object of the incorrect type, such as by adding a string to an integer, an exception is thrown.\n",
    "3. NameError: When a variable or function name cannot be found in the current scope, the exception NameError is thrown.\n",
    "4. IndexError: This exception is thrown when a list, tuple, or other sequence type's index is outside of bounds.\n",
    "5. KeyError: When a key cannot be found in a dictionary, this exception is thrown.\n",
    "6. ValueError: This exception is thrown when an invalid argument or input is passed to a function or method. An example would be trying to convert a string to an integer when the string does not represent a valid integer.\n",
    "7. AttributeError: When an attribute or method is not present on an object, such as when attempting to access a non-existent attribute of a class instance, the exception AttributeError is thrown.\n",
    "8. IOError: This exception is thrown if an input/output error occurs during an I/O operation, such as reading or writing to a file.\n",
    "9. ZeroDivisionError: This exception is thrown whenever a division by zero is attempted.\n",
    "10. ImportError: This exception is thrown whenever a module cannot be loaded or found by an import statement."
   ]
  },
  {
   "cell_type": "markdown",
   "id": "1358cd02",
   "metadata": {},
   "source": [
    "# Q3.What is the purpose of the finally block in exception handling?\n"
   ]
  },
  {
   "cell_type": "markdown",
   "id": "389d5787",
   "metadata": {},
   "source": [
    "he finally block in exception handling is used to define code that will always be executed, regardless of whether an exception was thrown or not in the try block. It is typically used for clean-up actions, such as:\n",
    "\n",
    "Closing files or network connections\n",
    "Releasing resources\n",
    "Cleaning up temporary data\n",
    "Resetting states\n",
    "Even if an exception is raised in the try block, or if there is a return statement, the finally block will still execute before the method exits."
   ]
  },
  {
   "cell_type": "markdown",
   "id": "812dff8a",
   "metadata": {},
   "source": [
    "# Q4.What is logging in Python?\n",
    "## Python Logging\n",
    "                  Python logging is a module that allows you to track events that occur while your program is running. You can use logging to record information about errors, warnings, and other events that occur during program execution. And logging is a useful tool for debugging, troubleshooting, and monitoring your program.\n",
    "## How Does Logging in Python Work?\n",
    "                                    Python import logging is a powerful tool for debugging and troubleshooting code. By default, Python will log all messages to the standard output stream. However, it is also possible to configure Python to log messages to a file, or even to a remote server.\n",
    "\n",
    "There are three steps to configuring Python logging:\n",
    "                                                    1.Choose a logger - This is where the object that will actually do the logging.\n",
    "                                                    2.Configure the logger - This step involves telling the logger to log messages, what format to use,                                                       and what level of detail to include.\n",
    "                                                    3.Use the logger - This step simply involves using the logger object in your code to log messages.\n",
    "## Python Logging Level\n",
    "                        Python logging levels are used to indicate the severity of a message. There are five logging levels in Python: \n",
    "                        DEBUG, \n",
    "                        INFO, \n",
    "                        WARNING, \n",
    "                        ERROR, \n",
    "                        CRITICAL. "
   ]
  },
  {
   "cell_type": "markdown",
   "id": "ee4b0905",
   "metadata": {},
   "source": [
    "# Q5.What is the significance of the __del__ method in Python?\n",
    "                                                              In Python, the __del__ method is a special method that acts as a destructor for an object. It is automatically called when an object is about to be destroyed, which typically happens when its reference count drops to zero (i.e., when the object is no longer in use or is explicitly deleted).\n",
    "\n",
    "### Purpose of __del__:\n",
    "                      The __del__ method allows an object to perform clean-up operations before it is removed from memory. This is particularly useful when the object holds external resources like files, network connections, or database connections that need to be properly released or closed before the object is destroyed.\n",
    "\n",
    "### Key Points About __del__:\n",
    "\n",
    "#### 1.Object Cleanup:\n",
    "                     It allows for custom clean-up when an object is destroyed, such as closing files, releasing resources, or logging a message.\n",
    "\n",
    "#### 2.Automatic Calling:\n",
    "                         Python’s garbage collection mechanism automatically calls __del__ when there are no more references to the object.\n",
    "\n",
    "#### 3.Unreliable with Circular References:\n",
    "                                           If an object has circular references (i.e., objects that reference each other), Python’s garbage collector may not be able to detect and clean them up properly. In such cases, __del__ might not be called, leading to resource leaks.\n",
    "\n",
    "#### 4.Not a Substitute for finally: \n",
    "                                    The __del__ method is not meant for handling exceptions or clean-up during regular program flow like the finally block in try-except statements. It’s specifically for garbage collection and destruction.\n"
   ]
  },
  {
   "cell_type": "markdown",
   "id": "2a7005a2",
   "metadata": {},
   "source": [
    "# Q6. MF What is the difference between import and from ... import in Python?\n",
    "## import module:-\n",
    "### 1.Behavior:\n",
    "               Using `import module` brings the entire module into your script. However, to access a particular function or class within that module, you’d need to prefix it with the module’s name.\n",
    "### 2.Advantage:\n",
    "              This method provides clear context in the code about where a particular function or class originates, making the code more readable. It’s easier to discern that a certain function or class belongs to a specific module.\n",
    "### 3.Example:\n",
    "            If the module named `tools` contains a function named `hammer()`, you would call it as `tools.hammer()` after importing the module.\n",
    "## from module import:\n",
    "### 1.Behavior:\n",
    "             This statement imports all public functions, classes, and variables defined in the module directly into the script’s namespace. This means you can use them without prefixing them with the module’s name.\n",
    "### 2.Advantage:\n",
    "              It provides a shortcut to access all functionalities without the need for prefixes.\n",
    "### 3.Drawback:\n",
    "             This method can lead to confusion, especially in larger scripts or when multiple modules are imported this way. There’s a risk of name clashes, where functions or variables from the module may overwrite existing names in your script or vice versa. Furthermore, it makes the code less readable since it’s harder to identify the origin of a function or a class."
   ]
  },
  {
   "cell_type": "markdown",
   "id": "672421a2",
   "metadata": {},
   "source": [
    "# Q7.How can you handle multiple exceptions in Python0?\n",
    "In Python, handling multiple exceptions can be done in several ways. You can either handle them in separate except blocks, combine them in a single block, or use more advanced mechanisms like else and finally. Here's a breakdown of how to handle multiple exceptions:\n",
    "### 1. Using Multiple except Blocks:\n",
    "### 2. Handling Multiple Exceptions in One except Block:\n",
    "### 3. Using else Block:\n",
    "### 4. Using finally Block:\n"
   ]
  },
  {
   "cell_type": "markdown",
   "id": "42ca0917",
   "metadata": {},
   "source": [
    "# Q8. What is the purpose of the with statement when handling files in Python?\n",
    "The with statement in Python is used for resource management and provides a cleaner and safer way to handle resources like files, network connections, and databases. When working with files, the with statement simplifies file handling by automatically managing the opening and closing of files, even in the case of errors or exceptions.\n",
    "\n",
    "### Purpose of with When Handling Files:\n",
    "#### Automatic File Closing:\n",
    "                            When you use the with statement, Python automatically closes the file when the block of code inside the with statement is finished, even if an error occurs.\n",
    "                            This prevents resource leaks (like leaving a file open) and ensures that system resources are released promptly.\n",
    "#### Exception Safety:\n",
    "                      If an exception occurs during the execution of the block inside the with statement, Python will still ensure that the file is closed properly before the exception is propagated.\n",
    "                      This makes file handling more robust, as you don’t need to explicitly call close() or write additional exception handling code to ensure the file gets closed.\n",
    "#### Cleaner and More Readable Code:\n",
    "                                    The with statement reduces the need for boilerplate code (like explicitly opening and closing the file) and makes the code more readable and concise."
   ]
  },
  {
   "cell_type": "markdown",
   "id": "1b474188",
   "metadata": {},
   "source": [
    "# Q9.What is the difference between multithreading and multiprocessing?\n",
    "Multithreading and multiprocessing are both techniques used to achieve concurrency and parallelism in computing, but they have key differences in how they work and what they are best suited for.\n",
    "\n",
    "## 1.Multithreading:\n",
    "                    1.Concept:multithreading, multiple threads run within a single process, sharing the same memory space.\n",
    "                    2.Resource Sharing: Since all threads share the same memory, they can directly access and modify shared data. This can be efficient                       but also risky due to potential issues like race conditions, where threads interfere with each other.\n",
    "                    3.Use Case: Best suited for tasks that involve I/O-bound operations (such as reading from files, network requests, or user input)                         where the program spends a lot of time waiting for external resources.\n",
    "                    4.CPU Utilization: Multithreading does not provide a significant performance boost for CPU-bound tasks due to Python’s Global                             Interpreter Lock (GIL) (in CPython). The GIL allows only one thread to execute Python bytecode at a time, limiting the potential                        of multithreading in CPU-intensive operations.\n",
    "                    5.Overhead: Threads are lighter weight compared to processes because they share the same memory space and resources.\n",
    "## 2. Multiprocessing:\n",
    "                      1.Concept: In multiprocessing, multiple processes run independently, each with its own memory space.\n",
    "                      2.Resource Sharing: Since each process has its own memory, they do not share data directly. Inter-process communication (IPC)                             mechanisms, such as pipes or queues, are used to exchange data between processes.\n",
    "                      3.Use Case: Best suited for CPU-bound tasks, as it allows true parallel execution of tasks, bypassing the limitations of the GIL.                         Multiprocessing is ideal for operations like computations or simulations that require significant CPU resources.\n",
    "                      4.CPU Utilization: Processes can run in parallel on multiple CPU cores, providing a significant performance boost for CPU-bound                           tasks.\n",
    "                      5.Overhead: Processes are more resource-intensive compared to threads because each process has its own memory and overhead for                            creation and management."
   ]
  },
  {
   "cell_type": "markdown",
   "id": "cbee86dc",
   "metadata": {},
   "source": [
    "# Q10.What are the advantages of using logging in a program?\n",
    "Using logging in a program offers several advantages, especially for development, debugging, maintenance, and monitoring. Here are the key benefits:\n",
    "\n",
    "## 1. Better Debugging and Troubleshooting:\n",
    "Track Errors and Warnings: Logging allows you to capture and record errors, warnings, and critical events during runtime, which is essential for identifying issues in production or development environments.\n",
    "Trace Execution: Logs can provide a detailed record of how the program executed, which is invaluable for troubleshooting and identifying where things went wrong.\n",
    "## 2. Improved Monitoring and Maintenance:\n",
    "Real-Time Monitoring: By logging key events and metrics, you can monitor the application's behavior in real-time (or through log aggregation tools). This is useful for detecting anomalies or performance bottlenecks.\n",
    "Long-Term Insights: Logs can help track the application’s performance over time, giving you insights into trends, resource consumption, or recurring issues that might not be apparent during development.\n",
    "## 3. Separation of Concerns:\n",
    "Decoupling Debugging from Production Code: By using logging, you separate debugging information from the main functionality of the program. This ensures that the production code remains clean and efficient, without having to manually insert debug print statements.\n",
    "## 4. Control Over Output:\n",
    "Granular Control of Log Levels: The logging module allows you to define different levels of severity for log messages (e.g., DEBUG, INFO, WARNING, ERROR, CRITICAL). This allows you to control the verbosity of the output and filter out unnecessary information when needed.\n",
    "Selective Logging: You can choose to log only certain types of events, which helps you focus on the most important information. For example, in a production environment, you might only log ERROR and CRITICAL messages but log everything in a development environment.\n",
    "## 5. Persistence and Audit Trails:\n",
    "Persistent Record: Logs can be written to files, databases, or external logging systems, providing a persistent record of events that can be referred to later for audits, forensic analysis, or troubleshooting.\n",
    "Audit and Compliance: In some industries, maintaining logs is required for compliance with regulations. Logs can provide a record of who did what and when, which is useful for auditing purposes.\n",
    "## 6. Flexibility in Output:\n",
    "Multiple Log Destinations: You can configure logging to send output to various destinations, such as files, consoles, remote servers, or third-party services (like Sentry or Loggly). This makes it easier to integrate with external tools for analysis and monitoring.\n",
    "Structured Logging: Logs can be structured (e.g., JSON format) to be machine-readable, making it easier to integrate with log aggregation systems like ELK (Elasticsearch, Logstash, Kibana) or Splunk.\n",
    "## 7. Performance Considerations:\n",
    "Efficient Logging: Logging libraries, such as Python's built-in logging module, are optimized for performance. They allow for asynchronous logging, rotating log files, and limiting log file size, which can prevent the application from being slowed down by excessive logging.\n",
    "Non-Intrusive: Compared to print statements, logging does not interfere with the application flow or require manual removal once debugging is done.\n",
    "## 8. Easier Debugging in Production:\n",
    "Remote Debugging: In production, you cannot always use a debugger. Logs give you valuable information without interrupting the application. This is especially useful in distributed systems or cloud environments where direct access to the runtime may be limited.\n",
    "Real-Time Alerts: Some logging systems can trigger alerts based on specific log messages or error thresholds, providing an early warning system to catch issues before they become critical.\n",
    "## 9. Better Collaboration:\n",
    "Team Collaboration: Logs provide a common point of reference for teams working on the same project. When developers, testers, or system administrators collaborate, logs serve as a shared source of information about the application's behavior.\n",
    "## 10. Integration with External Tools:\n",
    "Third-Party Monitoring: Logs can be integrated with external services (such as error-tracking tools, cloud-based monitoring systems, or centralized logging solutions), giving you better insights into application health and performance.\n",
    "Alerting Systems: Integration with tools like Slack, email, or pagerduty allows automatic alerts in case of critical errors, helping teams take immediate action."
   ]
  },
  {
   "cell_type": "markdown",
   "id": "0cbbe114",
   "metadata": {},
   "source": [
    "# Q11.What is memory management in Python?\n",
    "Memory management in Python refers to the process by which Python handles the allocation, usage, and release of memory during the execution of a program. This is a critical part of programming because efficient memory usage ensures that programs run optimally and do not exhaust system resources. Python uses several techniques and tools to manage memory automatically, making it easier for developers to focus on writing code rather than worrying about memory allocation and deallocation.\n",
    "\n",
    "## Key Concepts in Python's Memory Management\n",
    "#### 1 Automatic Memory Management:\n",
    "\n",
    "###### Garbage Collection:\n",
    "Python uses a garbage collector to automatically manage memory by reclaiming memory that is no longer needed. This means that unused objects are automatically removed from memory to free up space. Python uses a combination of reference counting and cyclic garbage collection.\n",
    "###### Reference Counting:\n",
    "Each object in Python has an associated reference count that tracks how many references point to that object. When the reference count drops to zero, the object is considered no longer needed, and its memory is released.\n",
    "###### Cyclic Garbage Collection:\n",
    "Python's garbage collector also detects and cleans up objects involved in reference cycles (where objects refer to each other in a loop, making reference counting alone insufficient). This prevents memory leaks that could otherwise occur in such scenarios.\n",
    "#### 2.Memory Allocation:\n",
    "\n",
    "###### Heap Memory: \n",
    "Python allocates memory for objects (such as numbers, lists, dictionaries, etc.) on the heap. The heap is an area of memory reserved for dynamically allocated objects.\n",
    "###### Stack Memory:\n",
    "Local variables (such as those inside functions) are typically stored in the stack memory. However, stack memory management is done at a lower level and isn't as prominent in Python because of its dynamic nature.\n",
    "#### 3.Dynamic Typing:\n",
    "In Python, variables are dynamically typed, meaning the type of a variable is determined at runtime. This allows objects to be created and resized on the fly, but also requires Python to allocate and manage memory dynamically during program execution.\n",
    "#### 4.Memory Pools:\n",
    "Python uses memory pools to manage small objects efficiently. The pymalloc allocator, which is part of Python's memory management system, organizes memory into blocks of different sizes (for example, for small objects, such as integers or small lists), helping reduce fragmentation and speed up memory allocation and deallocation.\n",
    "#### 5.Memory Management in Containers:\n",
    "###### Lists, Dictionaries, Tuples: \n",
    "Python containers (like lists and dictionaries) are dynamic and can grow or shrink in size. When an object is added to a list, the memory is dynamically reallocated as needed. This reallocation is handled by the underlying memory management system in Python.\n",
    "#### 6.Object Deallocation:\n",
    "Python automatically deallocates objects when they are no longer in use, thanks to garbage collection. However, the deallocation process can take time because Python uses reference counting and garbage collection, which doesn't immediately reclaim memory when objects become unreachable.\n",
    "#### 7.Memory Leaks:\n",
    "While Python automatically handles memory management, memory leaks can still occur, especially if there are circular references that are not detected by the garbage collector. This is why Python’s cyclic garbage collection is an important feature that can clean up these reference cycles.\n",
    "gc \n",
    "#### 8.Module:\n",
    "Python provides the gc (garbage collection) module that allows developers to interact with the garbage collector. It provides functions to enable or disable automatic garbage collection, manually trigger a collection cycle, and inspect the garbage collection process to detect objects that are not being freed properly.\n",
    "## Key Features of Python’s Memory Management System:\n",
    "#### Automatic Garbage Collection: \n",
    "Python uses a combination of reference counting and cyclic garbage collection to automatically manage memory. Developers generally do not need to manually allocate or free memory.\n",
    "#### Reference Counting:\n",
    "Every Python object has a reference count that tracks how many references point to it. When the reference count becomes zero, the object is deleted.\n",
    "#### Cyclic Garbage Collection: \n",
    "Python’s garbage collector detects and cleans up reference cycles (objects referencing each other in a cycle), which cannot be handled by reference counting alone.\n",
    "#### Memory Pools for Efficiency: \n",
    "Python uses a specialized memory allocator (pymalloc) to manage memory efficiently for small objects, which reduces fragmentation and overhead.\n",
    "#### Optimized for Small Objects: \n",
    "Small objects in Python (like integers or small lists) are managed in pools, which reduces the overhead associated with allocating and freeing small amounts of memory.\n"
   ]
  },
  {
   "cell_type": "markdown",
   "id": "0d1d5622",
   "metadata": {},
   "source": [
    "# Q12.What are the basic steps involved in exception handling in Python?\n",
    "### Steps in Exception Handling:\n",
    "#### try: \n",
    "Wrap the code that might raise an exception in a try block.\n",
    "#### except: \n",
    "Define one or more except blocks to handle specific exceptions.\n",
    "#### else (Optional): \n",
    "Use the else block to run code only if no exception was raised.\n",
    "#### finally (Optional): \n",
    "Use the finally block to perform cleanup actions, regardless of whether an exception occurred"
   ]
  },
  {
   "cell_type": "markdown",
   "id": "fa714b66",
   "metadata": {},
   "source": [
    "# Q13.Why is memory management important in Python?\n",
    "Memory management is crucial in Python for several reasons, as it directly impacts the performance, reliability, and scalability of Python programs. Proper memory management ensures that resources are used efficiently, prevents memory leaks, and helps avoid performance bottlenecks, especially when handling large datasets or running applications over extended periods.\n",
    "\n",
    "#### Here are the key reasons why memory management is important in Python:\n",
    "1. Efficient Resource Utilization\n",
    "2. Avoid Memory Leaks\n",
    "3. Automatic Garbage Collection\n",
    "4. Improves Program Stability\n",
    "5. Improved Debugging and Maintenance\n",
    "6. Performance Considerations\n",
    "7. Object-Oriented Programming (OOP) Considerations\n",
    "8. Multithreading and Multiprocessing Considerations\n",
    "9. Interfacing with External Systems\n",
    "10. emory Profiling and Optimization\n"
   ]
  },
  {
   "cell_type": "markdown",
   "id": "424200b6",
   "metadata": {},
   "source": [
    "# Q14.F What is the role of try and except in exception handling?\n",
    "In Python, the try and except blocks play a crucial role in exception handling, allowing programs to handle errors gracefully and continue executing instead of crashing. Here’s how they work and their specific roles:\n",
    "\n",
    "### 1. Role of try in Exception Handling:\n",
    "The try block is used to wrap the code that may raise an exception during execution.\n",
    "The code inside the try block is executed normally. If everything runs successfully without errors, the program continues without entering the except block.\n",
    "If an error occurs during the execution of any statement inside the try block, Python immediately stops the execution of the try block and looks for an except block to handle the error.\n",
    "### 2.Role of except in Exception Handling:\n",
    "The except block defines how to handle exceptions that are raised in the try block. It catches and processes the exception.\n",
    "\n",
    "The except block is only executed if an exception occurs in the try block. It allows you to define a response to the exception, such as logging an error message, taking corrective actions, or simply passing the exception without affecting the rest of the program.\n",
    "\n",
    "You can specify the type of exception you want to catch (e.g., ZeroDivisionError, ValueError, etc.), and Python will only handle that specific type of exception. If you don't specify an exception, it catches all exceptions."
   ]
  },
  {
   "cell_type": "markdown",
   "id": "a7ad8edb",
   "metadata": {},
   "source": [
    "# Q15. How does Python's garbage collection system work?\n",
    "Python's garbage collection system is responsible for automatically managing memory by reclaiming unused memory, preventing memory leaks, and ensuring efficient memory usage. The system frees up memory occupied by objects that are no longer in use, which helps Python programs run smoothly and efficiently.\n",
    "Here’s how Python’s garbage collection works:\n",
    "1. Reference Counting\n",
    "2. Cyclic Garbage Collection\n",
    "3. The Garbage Collection Module (gc)\n",
    "4. Generational Garbage Collection\n",
    "5. How the Garbage Collector Works\n",
    "6. When Does the Garbage Collector Run?\n",
    "7. Disabling and Tuning the Garbage Collector\n",
    "\n"
   ]
  },
  {
   "cell_type": "markdown",
   "id": "ff593c43",
   "metadata": {},
   "source": [
    "# Q16. What is the purpose of the else block in exception handling?\n",
    "The else block in Python's exception handling is an optional component that can be used in conjunction with the try and except blocks. Its purpose is to define code that should run only if no exceptions were raised in the try block. If the code in the try block executes successfully without encountering any errors, the else block will be executed.\n",
    "### 1.Execute Code When No Exception Occurs:\n",
    "The else block allows you to run code that should only execute if the try block does not raise an exception. It is useful for separating the normal execution flow from the error-handling code.\n",
    "This ensures that any post-try logic that only makes sense when the try block succeeds is clearly separated and easier to read.\n",
    "### 2.Cleaner and More Organized Code:\n",
    "By using the else block, you can avoid mixing regular logic and exception handling. This keeps your code more readable and maintainable.\n",
    "### How it Works:\n",
    "The try block is executed first. If no exception is raised, the else block is executed.\n",
    "If an exception is raised in the try block, the except block will handle the exception, and the else block will not be executed."
   ]
  },
  {
   "cell_type": "markdown",
   "id": "b24523ed",
   "metadata": {},
   "source": [
    "# Q17. What are the common logging levels in Python?\n",
    "In Python, the logging module provides a way to log messages with different levels of severity. These logging levels are used to categorize the importance and urgency of the log messages. Each logging level corresponds to a threshold, and messages with a severity level equal to or higher than the specified level are logged.\n",
    "\n",
    "#### Common Logging Levels in Python:\n",
    "The logging module defines the following common log levels (listed from highest to lowest severity):\n",
    "\n",
    "#### 1.CRITICAL (50):\n",
    "\n",
    "Severity: Very high severity, indicating a critical error that may cause the program to terminate.\n",
    "Use Case: Used to log issues that are catastrophic and could stop the execution of the application, such as a system failure or an unhandled exception in the program.\n",
    "Example: logging.critical(\"A critical error occurred!\")\n",
    "#### ERROR (40):\n",
    "\n",
    "Severity: Indicates a serious error that prevents part of the program from working properly but does not necessarily cause the entire program to stop.\n",
    "Use Case: Used to log significant issues like failed operations, network failures, or errors in critical components.\n",
    "Example: logging.error(\"Failed to connect to the database.\")\n",
    "#### WARNING (30):\n",
    "\n",
    "Severity: Indicates a warning about a situation that might lead to a problem but isn't necessarily an error. The program can still run, but it's something to be cautious about.\n",
    "Use Case: Used to log potential issues, deprecated features, or situations that might lead to unexpected behavior but don’t break the program.\n",
    "Example: logging.warning(\"Low disk space remaining.\")\n",
    "#### INFO (20):\n",
    "\n",
    "Severity: Provides general information about the program's normal operation. This is the default level used for routine logs that confirm the application is working as expected.\n",
    "Use Case: Used to log standard information like successful execution, initialization of services, or milestones in the program.\n",
    "Example: logging.info(\"User successfully logged in.\")\n",
    "#### DEBUG (10):\n",
    "\n",
    "Severity: Provides detailed information, typically useful only for diagnosing issues during development or troubleshooting. This level is very verbose.\n",
    "Use Case: Used to log detailed messages for developers or during debugging. It is typically used during development but might be turned off in production.\n",
    "Example: logging.debug(\"Value of variable x: {}\".format(x))\n",
    "#### NOTSET (0):\n",
    "\n",
    "Severity: This is the lowest logging level, and it means that no specific logging level has been set. It will allow all levels of logging (from DEBUG to CRITICAL).\n",
    "Use Case: It's usually not used directly but allows child loggers to inherit logging levels from their parent logger.\n",
    "### Log Level Hierarchy:\n",
    "These levels are hierarchical, meaning that if you set the logging level to a specific level, all log messages at that level or higher will be captured. For example, if the logging level is set to ERROR, messages with the level ERROR, CRITICAL, and WARNING will be logged, but messages with the levels INFO and DEBUG will be ignored."
   ]
  },
  {
   "cell_type": "markdown",
   "id": "698bb961",
   "metadata": {},
   "source": [
    "# Q18. What is the difference between os.fork() and multiprocessing in Python?\n",
    "In Python, both os.fork() and the multiprocessing module are used for creating new processes, but they differ in terms of usage, behavior, and underlying mechanisms. Here's a detailed comparison between the two:\n",
    "### os.fork() \n",
    "is a low-level system call available only on Unix-based systems that creates a new child process by duplicating the parent. It's useful when you need fine-grained control over process creation but is more complex to manage, especially for inter-process communication and memory management.\n",
    "\n",
    "### multiprocessing \n",
    "is a high-level, cross-platform module that provides a more user-friendly interface for creating and managing processes. It handles many of the complexities of process creation, memory management, and inter-process communication, and works on both Unix-based and Windows systems. It is the preferred option for most Python programs requiring process-based parallelism.\n"
   ]
  },
  {
   "cell_type": "markdown",
   "id": "b6cb37f4",
   "metadata": {},
   "source": [
    "# Q19. What is the importance of closing a file in Python?\n",
    "1.Releases resources: File handles are released, preventing resource exhaustion.\n",
    "\n",
    "2.Ensures data integrity: Buffered data is written to disk, preventing data loss.\n",
    "\n",
    "3.Prevents corruption: Locks are released, preventing conflicts.\n",
    "\n",
    "4.Prevents file handle leaks: Avoids running out of file handles by closing files properly.\n",
    "\n",
    "5.Improves performance: Finalizes any pending operations and releases memory.\n",
    "\n",
    "Closing files properly is a good practice that helps to avoid resource wastage, data corruption, and other potential issues. Using the with statement is a simple and safe way to ensure that files are always closed properly."
   ]
  },
  {
   "cell_type": "markdown",
   "id": "c7901263",
   "metadata": {},
   "source": [
    "# Q20. What is the difference between file.read() and file.readline() in Python?\n",
    "file.read() is used for reading the entire file at once into memory.\n",
    "\n",
    "file.readline() is used for reading one line at a time, making it more memory-efficient for large files.\n",
    "\n",
    "Choosing between the two methods depends on the size of the file and how you want to process the data. If you're working with large files or want to process lines individually, file.readline() is a better choice. If the file is small and you need to access all its data at once, file.read() is simpler and more convenient."
   ]
  },
  {
   "cell_type": "markdown",
   "id": "5a782b9b",
   "metadata": {},
   "source": [
    "# Q21. What is the logging module in Python used for?\n",
    "The logging module in Python is used to implement a flexible and configurable logging system for tracking events, errors, and other information in your application. It allows developers to generate log messages that can help with debugging, monitoring, and maintaining applications.\n",
    "\n",
    "### Key Features of the logging Module:\n",
    " Log Message Recording: \n",
    "The logging module allows you to log messages at different severity levels, such as debug messages, informational messages, warnings, errors, and critical errors.\n",
    "\n",
    "###### Flexible Output:\n",
    "Logs can be directed to various outputs, such as console, files, or even remote servers. This makes it highly customizable for different use cases.\n",
    "\n",
    "##### Multiple Log Levels:\n",
    "It supports different logging levels, helping to control the verbosity of log output. The standard logging levels are:\n",
    "\n",
    "DEBUG: Detailed information, typically useful for diagnosing issues.\n",
    "INFO: General information about the application's operation.\n",
    "WARNING: Indicates something unexpected happened, or there’s a problem that doesn't stop the program but should be looked at.\n",
    "ERROR: A more serious issue that prevented some functionality from working.\n",
    "CRITICAL: A very serious error that likely leads to the program termination or a major failure.\n",
    "\n",
    "##### Configurable Handlers: \n",
    "You can configure handlers to control where the log messages go, such as writing them to a file, sending them to a remote server, or displaying them in the console.\n",
    "\n",
    "###### Log Formatting:\n",
    "It allows you to customize the format of the log messages, specifying how the time, message, log level, and other information are displayed.\n",
    "\n",
    "##### Loggers and Propagation:\n",
    "Loggers are the objects used to record log messages. They can be hierarchical, with messages propagated from child loggers to parent loggers.\n",
    "\n",
    "##### Built-in and Custom Handlers: \n",
    "It comes with several built-in handlers, such as StreamHandler (for console output) and FileHandler (for writing to files). You can also create custom handlers for specific needs."
   ]
  },
  {
   "cell_type": "markdown",
   "id": "c54e4ee7",
   "metadata": {},
   "source": [
    "# Q22. What is the os module in Python used for in file handling?\n",
    "The os module is essential for interacting with the operating system in Python, especially for file handling. It allows you to perform various file and directory operations, such as:\n",
    "\n",
    "Creating and deleting files and directories\n",
    "\n",
    "Renaming files\n",
    "\n",
    "Checking for file existence\n",
    "\n",
    "Manipulating file paths\n",
    "\n",
    "Getting file properties (like size)\n",
    "\n",
    "By using the os module, you can work with the file system in a cross-platform way and efficiently manage files and directories in your Python applications.\n",
    "\n",
    "\n",
    "\n",
    "\n"
   ]
  },
  {
   "cell_type": "markdown",
   "id": "0441d9b0",
   "metadata": {},
   "source": [
    "# Q23.What are the challenges associated with memory management in Python?\n",
    "While Python offers automatic memory management, there are several challenges associated with it:\n",
    "\n",
    "Circular references and memory leaks.\n",
    "\n",
    "Dynamic typing and the overhead of object creation.\n",
    "\n",
    "Fragmentation and inefficient memory use in long-running applications.\n",
    "\n",
    "Limited control over memory allocation and deallocation.\n",
    "\n",
    "Multithreading and multiprocessing complexities with shared or duplicated memory.\n",
    "\n",
    "To address these challenges, it's important to use tools like garbage collection, profiling, and specialized data structures, as well as best practices for managing memory more efficiently (e.g., using weakref, breaking circular dependencies, or manually triggering garbage collection).\n"
   ]
  },
  {
   "cell_type": "markdown",
   "id": "eaecced2",
   "metadata": {},
   "source": [
    "# Q24. How do you raise an exception manually in Python?\n",
    "In Python, you can raise an exception manually using the raise keyword. This allows you to signal that an error has occurred in your program and handle it appropriately using exception handling mechanisms\n",
    "You can raise any built-in exception, or you can create your own custom exception by subclassing the base Exception class.\n"
   ]
  },
  {
   "cell_type": "markdown",
   "id": "3e752637",
   "metadata": {},
   "source": [
    "# Q25. Why is it important to use multithreading in certain applications?\n",
    "Multithreading is important in applications that require concurrent task execution, improved performance, responsiveness, or efficient resource sharing. It is especially beneficial for I/O-bound operations and real-time applications, as well as for improving the scalability of programs by fully utilizing the CPU's multiple cores. However, it requires careful design to handle concurrency issues and ensure thread safety."
   ]
  },
  {
   "cell_type": "markdown",
   "id": "091759b0",
   "metadata": {},
   "source": [
    "#                                                              Practical Questions"
   ]
  },
  {
   "cell_type": "markdown",
   "id": "26310b87",
   "metadata": {},
   "source": [
    "# Q1.How can you open a file for writing in Python and write a string to it ?\n",
    "In Python, you can open a file for writing using the open() function and specifying the mode 'w' for writing. If the file doesn't already exist, Python will create it. If the file already exists, it will overwrite the file. You can then use the write() method to write a string to the file.\n",
    "\n",
    "#### Steps to open a file for writing and write a string:\n",
    "Use open() to open the file in write mode.\n",
    "Use the write() method to write the string to the file.\n",
    "Always close the file when you're done to ensure data is written and resources are released.\n",
    "\n",
    "#### Explanation:\n",
    "\n",
    "open('example.txt', 'w'): This opens the file example.txt in write mode. If the file doesn't exist, Python will create it.\n",
    "\n",
    "file.write(\"Hello, this is a string written to the file.\"): This writes the given string to the file.\n",
    "\n",
    "The with statement automatically closes the file when the block of code is finished, ensuring that the file is properly closed even if an error occurs.\n",
    "\n",
    "#### Modes for opening a file:\n",
    "\n",
    "'w': Write mode (creates the file if it doesn't exist and overwrites the file if it does).\n",
    "\n",
    "'a': Append mode (writes data at the end of the file, creating it if it doesn't exist).\n",
    "\n",
    "'x': Exclusive creation (creates a new file, but raises an error if the file already exists).\n",
    "\n",
    "Using the with statement is recommended because it handles the file closing automatically, making the code cleaner and more reliable."
   ]
  },
  {
   "cell_type": "markdown",
   "id": "dadb5094",
   "metadata": {},
   "source": [
    "# Q2. Write a Python program to read the contents of a file and print each line?\n"
   ]
  },
  {
   "cell_type": "code",
   "execution_count": null,
   "id": "7b4b6159",
   "metadata": {},
   "outputs": [],
   "source": [
    "a=str(input('enter the location , name and extension of file:'))\n",
    "file2=open(a,'r')\n",
    "line=file2,readline()\n",
    "while(line!=''):\n",
    "    print(line)\n",
    "    line=file2.readline()\n",
    "file2.close()"
   ]
  },
  {
   "cell_type": "markdown",
   "id": "ae9f6207",
   "metadata": {},
   "source": [
    "# Q3.How would you handle a case where the file doesn't exist while trying to open it for reading?"
   ]
  },
  {
   "cell_type": "markdown",
   "id": "5ba3256f",
   "metadata": {},
   "source": [
    "To handle a situation where a file does not exist while trying to open it for reading, you can use Python's try-except block. H:\n",
    "### Explanation:\n",
    "1.try Block: Attempts to open the file and read its content.\n",
    "\n",
    "2.except FileNotFoundError: Catches the specific error raised when the file does not exist.\n",
    "\n",
    "3.Graceful Handling: Prints a user-friendly error message instead of crashing the program.\n",
    "\n",
    "This approach ensures your program doesn't terminate abruptly and allows you to provide feedback or take alternative actions, such as prompting the user to input a valid file name or creating the file if necessary."
   ]
  },
  {
   "cell_type": "markdown",
   "id": "fcfa363f",
   "metadata": {},
   "source": [
    "# Q4.Write a Python script that reads from one file and writes its content to another file?\n"
   ]
  },
  {
   "cell_type": "markdown",
   "id": "b13aba94",
   "metadata": {},
   "source": [
    "Python comes with the open() function to handle files. We can open the files in following modes:\n",
    "\n",
    "1.read: Opens the file in reading mode.\n",
    "\n",
    "2.write: If the file is not present, it will create a file with the provided name and open the file in reading mode. It will \n",
    "overwrite the previous data.\n",
    "\n",
    "3.append: This is the same as opening in write mode but it doesn’t overwrite the previous data.\n"
   ]
  },
  {
   "cell_type": "code",
   "execution_count": null,
   "id": "92d2f008",
   "metadata": {},
   "outputs": [],
   "source": [
    "file_to_read = \"1filename.txt\"\n",
    "write_to_file=\"2ndfilename.txt\"\n",
    "\n",
    "file = open(file_to_read,\"r\")\n",
    "data=file.read()\n",
    "file.close()\n",
    "\n",
    "with open(write_to_file,\"a\") as file:\n",
    "    file.write(data)\n",
    "print(\"comple\")\n"
   ]
  },
  {
   "cell_type": "markdown",
   "id": "5894598d",
   "metadata": {},
   "source": [
    "### Code Explanation:\n",
    "###### 1.Opening file_to_read for Reading:\n",
    "Opens the file in read mode (\"r\").\n",
    "\n",
    "Reads the content of the file into the variable data.\n",
    "\n",
    "Closes the file after reading.\n",
    "###### 2.Opening write_to_file for Appending:\n",
    "Opens the file in append mode (\"a\"), ensuring new content is added without overwriting existing data.\n",
    "\n",
    "Writes the content from data to the file.\n",
    "###### 3.Completion Message:\n",
    "Prints a message to indicate the operation is finished.\n"
   ]
  },
  {
   "cell_type": "markdown",
   "id": "de61027e",
   "metadata": {},
   "source": [
    "# Q5.How would you catch and handle division by zero error in Python?"
   ]
  },
  {
   "cell_type": "markdown",
   "id": "e69d639b",
   "metadata": {},
   "source": [
    "To catch and handle a division by zero error in Python, you can use a try-except block to handle the ZeroDivisionError."
   ]
  },
  {
   "cell_type": "code",
   "execution_count": null,
   "id": "69b2048c",
   "metadata": {},
   "outputs": [],
   "source": [
    "try:\n",
    "    numerator = float(input(\"Enter the numerator: \"))\n",
    "    denominator = float(input(\"Enter the denominator: \"))\n",
    "    result = numerator / denominator\n",
    "    print(f\"The result is: {result}\")\n",
    "except ZeroDivisionError:\n",
    "    print(\"Error: Division by zero is not allowed.\")\n",
    "except ValueError:\n",
    "    print(\"Error: Please enter valid numbers.\")"
   ]
  },
  {
   "cell_type": "markdown",
   "id": "a002b9df",
   "metadata": {},
   "source": [
    "\n",
    "\n",
    "\n",
    "##### Explanation:\n",
    "\n",
    "1.try Block:\n",
    "\n",
    "Attempts the division operation.\n",
    "\n",
    "Includes user input for flexibility, but you can hard-code values if needed.\n",
    "\n",
    "2.except ZeroDivisionError:\n",
    "\n",
    "Catches the specific error raised when dividing by zero.\n",
    "\n",
    "Prints an appropriate error message.\n",
    "3.\n",
    "except ValueError:\n",
    "\n",
    "Handles cases where the input is not a valid number.\n",
    "\n",
    "4.Graceful Execution:\n",
    "\n",
    "The program avoids crashing and provides user-friendly feedback.\n",
    "\n",
    "This approach ensures that division by zero is handled gracefully, allowing the program to continue running or prompt the user for corrective action.\n"
   ]
  },
  {
   "cell_type": "markdown",
   "id": "3601d987",
   "metadata": {},
   "source": [
    "# Q6. Write a Python program that logs an error message to a log file when a division by zero exception occurs?"
   ]
  },
  {
   "cell_type": "markdown",
   "id": "f0e6fb59",
   "metadata": {},
   "source": [
    "Here’s a Python program that logs an error message to a log file when a ZeroDivisionError occurs:"
   ]
  },
  {
   "cell_type": "code",
   "execution_count": null,
   "id": "0af26339",
   "metadata": {},
   "outputs": [],
   "source": [
    "import logging\n",
    "\n",
    "# Configure logging\n",
    "logging.basicConfig(\n",
    "    filename=\"error.log\",  # Log file name\n",
    "    level=logging.ERROR,   # Log level\n",
    "    format=\"%(asctime)s - %(levelname)s - %(message)s\"  # Log message format\n",
    ")\n",
    "\n",
    "def divide_numbers(a, b):\n",
    "    try:\n",
    "        result = a / b\n",
    "        print(f\"The result of {a} / {b} is {result}\")\n",
    "    except ZeroDivisionError as e:\n",
    "        error_message = f\"Division by zero error: {a} / {b}\"\n",
    "        print(error_message)\n",
    "        logging.error(error_message)\n",
    "\n",
    "# Example usage\n",
    "numerator = 10\n",
    "denominator = 0  # This will trigger the ZeroDivisionError\n",
    "\n",
    "divide_numbers(numerator, denominator)\n"
   ]
  },
  {
   "cell_type": "markdown",
   "id": "e71eb0cd",
   "metadata": {},
   "source": [
    "### Explanation:\n",
    "##### logging Module:\n",
    "\n",
    "\n",
    "Configured to log messages to a file (error.log).\n",
    "\n",
    "Logs include the timestamp, log level (ERROR), and message.\n",
    "\n",
    "#### Function Definition:\n",
    "\n",
    "\n",
    "divide_numbers attempts to divide a by b.\n",
    "\n",
    "If a ZeroDivisionError occurs, it logs the error to the file and prints a user-friendly message.\n",
    "\n",
    "#### Error Handling:\n",
    "\n",
    "\n",
    "Catches ZeroDivisionError specifically.\n",
    "\n",
    "Logs detailed information about the exception."
   ]
  },
  {
   "cell_type": "markdown",
   "id": "6ee2b155",
   "metadata": {},
   "source": [
    "# Q7. How do you log information at different levels (INFO, ERROR, WARNING) in Python using the logging module?"
   ]
  },
  {
   "cell_type": "markdown",
   "id": "00c34c70",
   "metadata": {},
   "source": [
    "The Python logging module provides multiple logging levels to categorize messages based on severity. You can use the different methods provided by the logging module to log messages at various levels.\n",
    "\n",
    "#### Common Logging Levels:\n",
    "\n",
    "1.DEBUG: Detailed information for diagnosing problems.\n",
    "\n",
    "2.INFO: General information about program execution.\n",
    "\n",
    "\n",
    "3.WARNING: An indication of potential issues that don’t stop the program.\n",
    "\n",
    "4.ERROR: An error that has occurred but doesn’t crash the program.\n",
    "\n",
    "5.CRITICAL: A severe error indicating the program may be unable to continue running."
   ]
  },
  {
   "cell_type": "markdown",
   "id": "69be9604",
   "metadata": {},
   "source": [
    "# Q8.Write a program to handle a file opening error using exception handling?\n"
   ]
  },
  {
   "cell_type": "markdown",
   "id": "6268b199",
   "metadata": {},
   "source": [
    "Here’s a Python program that demonstrates how to handle a file opening error using exception handling:"
   ]
  },
  {
   "cell_type": "code",
   "execution_count": null,
   "id": "55b4c7c4",
   "metadata": {},
   "outputs": [],
   "source": [
    "def open_file(file_name):\n",
    "    try:\n",
    "        # Attempt to open the file\n",
    "        with open(file_name, \"r\") as file:\n",
    "            content = file.read()\n",
    "            print(\"File content:\")\n",
    "            print(content)\n",
    "    except FileNotFoundError:\n",
    "        print(f\"Error: The file '{file_name}' does not exist.\")\n",
    "    except PermissionError:\n",
    "        print(f\"Error: Permission denied when trying to open '{file_name}'.\")\n",
    "    except IOError as e:\n",
    "        print(f\"An unexpected I/O error occurred: {e}\")\n",
    "\n",
    "# Example usage\n",
    "file_name = \"example.txt\"  # Replace with a file name to test\n",
    "open_file(file_name)\n"
   ]
  },
  {
   "cell_type": "markdown",
   "id": "facb5533",
   "metadata": {},
   "source": [
    "### How It Works:\n",
    "##### try Block:\n",
    "\n",
    "Attempts to open the file in read mode (\"r\") using the with statement.\n",
    "\n",
    "Reads and prints the file content if successful.\n",
    "\n",
    "##### except FileNotFoundError:\n",
    "\n",
    "Handles the case where the file does not exist.\n",
    "\n",
    "##### except PermissionError:\n",
    "\n",
    "Handles the case where the user lacks the required permissions to access the file.\n",
    "\n",
    "##### except IOError:\n",
    "\n",
    "Catches other unforeseen input/output errors, providing details about the issue.\n",
    "\n",
    "##### Graceful Error Messages:\n",
    "\n",
    "Displays user-friendly messages instead of crashing the program.\n",
    "\n",
    "#### Example Scenarios:\n",
    "###### 1.File Not Found:\n"
   ]
  },
  {
   "cell_type": "code",
   "execution_count": null,
   "id": "92a005c0",
   "metadata": {},
   "outputs": [],
   "source": [
    "Error: The file 'example.txt' does not exist.\n"
   ]
  },
  {
   "cell_type": "markdown",
   "id": "8cf5b0f7",
   "metadata": {},
   "source": [
    "###### 2.Permission Denied:"
   ]
  },
  {
   "cell_type": "code",
   "execution_count": null,
   "id": "b1d547eb",
   "metadata": {},
   "outputs": [],
   "source": [
    "Error: Permission denied when trying to open 'example.txt'.\n"
   ]
  },
  {
   "cell_type": "markdown",
   "id": "d14e60b2",
   "metadata": {},
   "source": [
    "###### 3.Successful File Read:"
   ]
  },
  {
   "cell_type": "code",
   "execution_count": null,
   "id": "ac931362",
   "metadata": {},
   "outputs": [],
   "source": [
    "File content:(Content of the file)\n"
   ]
  },
  {
   "cell_type": "markdown",
   "id": "a09c6118",
   "metadata": {},
   "source": [
    "# Q9.How can you read a file line by line and store its content in a list in Python?\n"
   ]
  },
  {
   "cell_type": "markdown",
   "id": "d422f5fe",
   "metadata": {},
   "source": [
    "To read a file line by line and store its content in a list in Python, you can use the readlines() method or iterate over the file object directly. Here's an example:\n",
    "#### Using readlines():"
   ]
  },
  {
   "cell_type": "code",
   "execution_count": null,
   "id": "d6b41fdb",
   "metadata": {},
   "outputs": [],
   "source": [
    "def read_file_lines(file_name):\n",
    "    try:\n",
    "        with open(file_name, \"r\") as file:\n",
    "            lines = file.readlines()  # Reads all lines into a list\n",
    "        return lines\n",
    "    except FileNotFoundError:\n",
    "        print(f\"Error: The file '{file_name}' does not exist.\")\n",
    "        return []\n",
    "    except IOError as e:\n",
    "        print(f\"An I/O error occurred: {e}\")\n",
    "        return []\n",
    "\n",
    "# Example usage\n",
    "file_name = \"example.txt\"  # Replace with the path to your file\n",
    "lines = read_file_lines(file_name)\n",
    "print(\"File content as a list of lines:\")\n",
    "print(lines)\n"
   ]
  },
  {
   "cell_type": "markdown",
   "id": "ed6b7112",
   "metadata": {},
   "source": [
    "#### Using a File Object in a Loop:"
   ]
  },
  {
   "cell_type": "code",
   "execution_count": null,
   "id": "a8239500",
   "metadata": {},
   "outputs": [],
   "source": [
    "def read_file_lines_loop(file_name):\n",
    "    try:\n",
    "        with open(file_name, \"r\") as file:\n",
    "            lines = [line.strip() for line in file]  # Removes trailing newline characters\n",
    "        return lines\n",
    "    except FileNotFoundError:\n",
    "        print(f\"Error: The file '{file_name}' does not exist.\")\n",
    "        return []\n",
    "    except IOError as e:\n",
    "        print(f\"An I/O error occurred: {e}\")\n",
    "        return []\n",
    "\n",
    "# Example usage\n",
    "file_name = \"example.txt\"  # Replace with the path to your file\n",
    "lines = read_file_lines_loop(file_name)\n",
    "print(\"File content as a list of lines (stripped):\")\n",
    "print(lines)\n"
   ]
  },
  {
   "cell_type": "markdown",
   "id": "3924703e",
   "metadata": {},
   "source": [
    "##### Key Differences:\n",
    "###### readlines():\n",
    "\n",
    "\n",
    "Reads all lines at once into a list.\n",
    "\n",
    "Keeps newline characters (\\n) at the end of each line unless explicitly removed.\n",
    "\n",
    "###### File Object Iteration:\n",
    "\n",
    "Reads file line by line, which can be more memory efficient for large files.\n",
    "S\n",
    "tripping (strip()) removes newline characters and extra spaces."
   ]
  },
  {
   "cell_type": "markdown",
   "id": "954101e7",
   "metadata": {},
   "source": [
    "# Q10.How can you append data to an existing file in Python?\n"
   ]
  },
  {
   "cell_type": "markdown",
   "id": "8fdfb83d",
   "metadata": {},
   "source": [
    "o append to a file in Python, you can use the \"a\" mode in the open() function. This will open the file in append mode, which means that you can write new data at the end of the file.\n",
    "\n",
    "Here is an example of how to use the \"a\" mode to append to a file:"
   ]
  },
  {
   "cell_type": "code",
   "execution_count": null,
   "id": "5f8154e4",
   "metadata": {},
   "outputs": [],
   "source": [
    "# Open the file in append mode\n",
    "with open(\"filename.txt\", \"a\") as file:\n",
    "    # Write the new data to the file\n",
    "    file.write(\"This is new data that is being appended to the file.\")"
   ]
  },
  {
   "cell_type": "markdown",
   "id": "eee5200e",
   "metadata": {},
   "source": [
    "You can also use the \"a\" mode to create a new file if the file does not already exist. If the file does not exist, it will be created and you can then write data to it.\n",
    "\n",
    "Keep in mind that the \"a\" mode will not overwrite any existing data in the file. It will only add new data to the end of the file. If you want to overwrite the existing data in the file, you can use the \"w\" mode instead."
   ]
  },
  {
   "cell_type": "markdown",
   "id": "cecd27f7",
   "metadata": {},
   "source": [
    "# Q11.Write a Python program that uses a try-except block to handle an error when attempting to access a dictionary key that doesn't exist?"
   ]
  },
  {
   "cell_type": "markdown",
   "id": "e637e819",
   "metadata": {},
   "source": [
    "Here's a Python program that demonstrates how to handle an error when attempting to access a dictionary key that doesn't exist, using a try-except block:"
   ]
  },
  {
   "cell_type": "code",
   "execution_count": null,
   "id": "852ec1a8",
   "metadata": {},
   "outputs": [],
   "source": [
    "def access_dict_key(dictionary, key):\n",
    "    try:\n",
    "        # Try to access the dictionary with the provided key\n",
    "        value = dictionary[key]\n",
    "        print(f\"The value for key '{key}' is: {value}\")\n",
    "    except KeyError:\n",
    "        print(f\"Error: The key '{key}' does not exist in the dictionary.\")\n",
    "\n",
    "# Example dictionary\n",
    "my_dict = {\"name\": \"Alice\", \"age\": 25, \"city\": \"New York\"}\n",
    "\n",
    "# Example usage\n",
    "key_to_access = \"address\"  # This key doesn't exist in the dictionary\n",
    "access_dict_key(my_dict, key_to_access)\n"
   ]
  },
  {
   "cell_type": "markdown",
   "id": "555fa5a5",
   "metadata": {},
   "source": [
    "#### Explanation:\n",
    "###### try Block:\n",
    "\n",
    "Attempts to access the value associated with the provided key in the dictionary.\n",
    "\n",
    "###### except KeyError:\n",
    "\n",
    "If the key does not exist in the dictionary, a KeyError is raised.\n",
    "\n",
    "The exception is caught, and an appropriate error message is printed.\n",
    "\n",
    "###### Example Dictionary:\n",
    "\n",
    "my_dict contains three keys: \"name\", \"age\", and \"city\".\n",
    "\n",
    "###### Example Key (\"address\"):\n",
    "\n",
    "Since the key \"address\" does not exist in my_dict, a KeyError will be raised and handled.\n",
    "#### Output:"
   ]
  },
  {
   "cell_type": "code",
   "execution_count": null,
   "id": "7713cfc1",
   "metadata": {},
   "outputs": [],
   "source": [
    "Error: The key 'address' does not exist in the dictionary.\n"
   ]
  },
  {
   "cell_type": "markdown",
   "id": "d3bb4758",
   "metadata": {},
   "source": [
    "This program ensures that the error is handled gracefully, and you can provide meaningful feedback when a dictionary key is not found."
   ]
  },
  {
   "cell_type": "markdown",
   "id": "764e1884",
   "metadata": {},
   "source": [
    "# Q12.  Write a program that demonstrates using multiple except blocks to handle different types of exceptions?"
   ]
  },
  {
   "cell_type": "code",
   "execution_count": null,
   "id": "209febc2",
   "metadata": {},
   "outputs": [],
   "source": [
    "def handle_exceptions():\n",
    "    try:\n",
    "        # Ask the user for input\n",
    "        num1 = int(input(\"Enter the first number: \"))\n",
    "        num2 = int(input(\"Enter the second number: \"))\n",
    "\n",
    "        # Perform division\n",
    "        result = num1 / num2\n",
    "        print(f\"The result of {num1} / {num2} is {result}\")\n",
    "        \n",
    "        # Attempt to access an index in a list\n",
    "        my_list = [1, 2, 3]\n",
    "        print(f\"The 5th element in the list is: {my_list[4]}\")\n",
    "        \n",
    "    except ValueError:\n",
    "        print(\"Error: Invalid input. Please enter valid integers.\")\n",
    "    except ZeroDivisionError:\n",
    "        print(\"Error: Cannot divide by zero.\")\n",
    "    except IndexError:\n",
    "        print(\"Error: Index out of range.\")\n",
    "    except Exception as e:\n",
    "        print(f\"An unexpected error occurred: {e}\")\n",
    "\n",
    "# Example usage\n",
    "handle_exceptions()\n"
   ]
  },
  {
   "cell_type": "markdown",
   "id": "daa74efe",
   "metadata": {},
   "source": [
    "### Explanation:\n",
    "##### try Block:\n",
    "\n",
    "The code within the try block asks the user for two numbers and attempts to perform division. It also tries to access an invalid index in a list to demonstrate multiple types of exceptions.\n",
    "\n",
    "##### Multiple except Blocks:\n",
    "\n",
    "ValueError: Catches invalid input (non-integer values).\n",
    "\n",
    "ZeroDivisionError: Handles division by zero.\n",
    "\n",
    "IndexError: Handles attempts to access an out-of-bounds index in a list.\n",
    "\n",
    "Exception: Catches any other unexpected errors that don't match the specific exceptions above. This is a generic exception handler.\n",
    "\n",
    "#### User Input:\n",
    "\n",
    "The program asks the user to input two integers and performs division on them.\n",
    "\n",
    "It also tries to access an index in a predefined list (my_list), which may trigger an IndexError if the index doesn't exist.\n",
    "\n",
    "#### Key Points:\n",
    "Each except block is designed to handle a specific type of exception.\n",
    "\n",
    "If one exception occurs, Python stops checking the following except blocks for that particular error.\n",
    "\n",
    "The final except Exception as e block acts as a catch-all for any unexpected errors.\n",
    "\n",
    "This approach ensures that your program can gracefully handle different types of errors and provide meaningful feedback to users."
   ]
  },
  {
   "cell_type": "markdown",
   "id": "d66b4842",
   "metadata": {},
   "source": [
    "# Q13.F How would you check if a file exists before attempting to read it in Python?"
   ]
  },
  {
   "cell_type": "markdown",
   "id": "fe70ce28",
   "metadata": {},
   "source": [
    "To check if a file exists before attempting to read it in Python, you can use the os.path.exists() method or the pathlib module. Here's how you can do it:"
   ]
  },
  {
   "cell_type": "code",
   "execution_count": null,
   "id": "67a58fd7",
   "metadata": {},
   "outputs": [],
   "source": [
    "import os\n",
    "\n",
    "def read_file(file_name):\n",
    "    if os.path.exists(file_name):\n",
    "        try:\n",
    "            with open(file_name, 'r') as file:\n",
    "                content = file.read()\n",
    "                print(\"File content:\")\n",
    "                print(content)\n",
    "        except IOError as e:\n",
    "            print(f\"An error occurred while reading the file: {e}\")\n",
    "    else:\n",
    "        print(f\"Error: The file '{file_name}' does not exist.\")\n",
    "\n",
    "# Example usage\n",
    "file_name = \"example.txt\"\n",
    "read_file(file_name)\n"
   ]
  },
  {
   "cell_type": "markdown",
   "id": "8351d64e",
   "metadata": {},
   "source": [
    "Using pathlib.Path.exists():"
   ]
  },
  {
   "cell_type": "code",
   "execution_count": null,
   "id": "b3194dec",
   "metadata": {},
   "outputs": [],
   "source": [
    "from pathlib import Path\n",
    "\n",
    "def read_file(file_name):\n",
    "    file_path = Path(file_name)\n",
    "    if file_path.exists():\n",
    "        try:\n",
    "            with open(file_name, 'r') as file:\n",
    "                content = file.read()\n",
    "                print(\"File content:\")\n",
    "                print(content)\n",
    "        except IOError as e:\n",
    "            print(f\"An error occurred while reading the file: {e}\")\n",
    "    else:\n",
    "        print(f\"Error: The file '{file_name}' does not exist.\")\n",
    "\n",
    "# Example usage\n",
    "file_name = \"example.txt\"\n",
    "read_file(file_name)\n"
   ]
  },
  {
   "cell_type": "markdown",
   "id": "08679a28",
   "metadata": {},
   "source": [
    "#### Explanation:\n",
    "###### 1.Using os.path.exists():\n",
    "\n",
    "Checks if the file exists by passing the file path to os.path.exists(). It returns True if the file exists, False otherwise.\n",
    "\n",
    "###### 2.Using pathlib.Path.exists():\n",
    "\n",
    "The pathlib module provides an object-oriented approach. The exists() method checks if the file exists.\n",
    "\n",
    "###### 3.Opening the File:\n",
    "\n",
    "If the file exists, it attempts to open and read the file. If there is an error during reading (e.g., permission issues), it raises an IOError which is handled in the except block.\n",
    "\n",
    "###### 4.Error Handling:\n",
    "\n",
    "If the file doesn't exist, it prints a friendly error message.\n",
    "\n",
    "If an error occurs during file reading, such as permission issues, it will print an error message.\n",
    "\n",
    "#### Output Example:\n",
    "###### If the file exists:\n",
    "\n"
   ]
  },
  {
   "cell_type": "code",
   "execution_count": null,
   "id": "4acf18a0",
   "metadata": {},
   "outputs": [],
   "source": [
    "File content:\n",
    "This is the content of the file.\n"
   ]
  },
  {
   "cell_type": "markdown",
   "id": "d58e5ae4",
   "metadata": {},
   "source": [
    "###### If the file doesn't exist:"
   ]
  },
  {
   "cell_type": "code",
   "execution_count": null,
   "id": "bfb06df7",
   "metadata": {},
   "outputs": [],
   "source": [
    "Error: The file 'example.txt' does not exist.\n"
   ]
  },
  {
   "cell_type": "markdown",
   "id": "50a079c5",
   "metadata": {},
   "source": [
    "Both methods are effective for checking file existence before trying to access it, avoiding potential errors."
   ]
  },
  {
   "cell_type": "markdown",
   "id": "0ba53c7a",
   "metadata": {},
   "source": [
    "# Q14. Write a program that uses the logging module to log both informational and error messages?"
   ]
  },
  {
   "cell_type": "markdown",
   "id": "5a33e9b2",
   "metadata": {},
   "source": [
    "Here’s a Python program that demonstrates how to use the logging module to log both informational and error messages:"
   ]
  },
  {
   "cell_type": "code",
   "execution_count": null,
   "id": "95295ef3",
   "metadata": {},
   "outputs": [],
   "source": [
    "import logging\n",
    "\n",
    "# Configure the logging system\n",
    "logging.basicConfig(\n",
    "    filename=\"app.log\",          # Log file where messages will be written\n",
    "    level=logging.DEBUG,         # Set the minimum level of messages to log\n",
    "    format=\"%(asctime)s - %(levelname)s - %(message)s\"  # Log message format\n",
    ")\n",
    "\n",
    "def perform_task():\n",
    "    logging.info(\"Task started.\")  # Log an informational message\n",
    "    \n",
    "    try:\n",
    "        # Simulating a division by zero error\n",
    "        result = 10 / 0\n",
    "        logging.info(f\"Result: {result}\")  # This will not be executed\n",
    "    except ZeroDivisionError as e:\n",
    "        logging.error(f\"Error: {e}\")  # Log an error message\n",
    "\n",
    "    logging.info(\"Task completed.\")  # Log another informational message\n",
    "\n",
    "# Example usage\n",
    "perform_task()\n"
   ]
  },
  {
   "cell_type": "markdown",
   "id": "6ee7fd6e",
   "metadata": {},
   "source": [
    "### Explanation:\n",
    "\n",
    "###### logging.basicConfig():\n",
    "\n",
    "filename=\"app.log\": Specifies the log file where messages will be written.\n",
    "\n",
    "level=logging.DEBUG: Sets the minimum level of messages to capture. In this case, DEBUG captures everything (i.e., DEBUG, INFO, \n",
    "WARNING, ERROR, and CRITICAL).\n",
    "\n",
    "format=\"%(asctime)s - %(levelname)s - %(message)s\": Defines the format of log messages, including the timestamp, log level, and the message itself.\n",
    "\n",
    "###### Logging Information:\n",
    "\n",
    "logging.info(\"message\"): Logs an informational message indicating normal program flow.\n",
    "\n",
    "###### Error Logging:\n",
    "\n",
    "Inside the try block, the program simulates a division by zero, which triggers an exception.\n",
    "logging.error(\"message\"): Captures and logs error messages when an exception occurs.\n",
    "\n",
    "##### Output:\n",
    "\n",
    "The log messages will be written to app.log. The content of app.log might look like this:"
   ]
  },
  {
   "cell_type": "code",
   "execution_count": null,
   "id": "cc3562d2",
   "metadata": {},
   "outputs": [],
   "source": [
    "2024-12-08 12:30:00,123 - INFO - Task started.\n",
    "2024-12-08 12:30:00,124 - ERROR - Error: division by zero\n",
    "2024-12-08 12:30:00,125 - INFO - Task completed.\n"
   ]
  },
  {
   "cell_type": "markdown",
   "id": "0f0309ab",
   "metadata": {},
   "source": [
    "#### Key Points:\n",
    "\n",
    "Informational Messages: Use logging.info() for general program status updates.\n",
    "\n",
    "Error Messages: Use logging.error() to capture error details when exceptions occur.\n",
    "\n",
    "Log Format: The log file includes timestamps, log levels, and the message, which is useful for tracking the application's execution.\n",
    "\n",
    "This approach ensures both informational messages and errors are logged, making it easier to debug and monitor the application."
   ]
  },
  {
   "cell_type": "markdown",
   "id": "c80fe835",
   "metadata": {},
   "source": [
    "# Q15.Write a Python program that prints the content of a file and handles the case when the file is empty?"
   ]
  },
  {
   "cell_type": "markdown",
   "id": "2d4f3694",
   "metadata": {},
   "source": [
    "Here is a Python program that reads the content of a file and handles the case when the file is empty:"
   ]
  },
  {
   "cell_type": "code",
   "execution_count": null,
   "id": "8308536d",
   "metadata": {},
   "outputs": [],
   "source": [
    "def read_file(file_name):\n",
    "    try:\n",
    "        with open(file_name, 'r') as file:\n",
    "            content = file.read()\n",
    "\n",
    "            if content:  # Check if the file is not empty\n",
    "                print(\"File content:\")\n",
    "                print(content)\n",
    "            else:\n",
    "                print(\"The file is empty.\")\n",
    "    except FileNotFoundError:\n",
    "        print(f\"Error: The file '{file_name}' does not exist.\")\n",
    "    except IOError as e:\n",
    "        print(f\"An error occurred while reading the file: {e}\")\n",
    "\n",
    "# Example usage\n",
    "file_name = \"example.txt\"  # Replace with your file name\n",
    "read_file(file_name)\n"
   ]
  },
  {
   "cell_type": "markdown",
   "id": "fb2d067d",
   "metadata": {},
   "source": [
    "### Explanation:\n",
    "###### Open the File:\n",
    "\n",
    "The with open(file_name, 'r') statement opens the file in read mode. The with statement ensures that the file is automatically closed when done.\n",
    "\n",
    "###### Check If File Is Empty:\n",
    "\n",
    "The file.read() method reads the entire file content into a string.\n",
    "\n",
    "The if content: condition checks whether the file content is empty. If the file is not empty, it prints the content. Otherwise, it prints \"The file is empty.\"\n",
    "\n",
    "###### Error Handling:\n",
    "\n",
    "FileNotFoundError: Catches cases where the file doesn't exist.\n",
    "\n",
    "IOError: Catches other I/O errors, such as permission issues.\n",
    "\n",
    "### Example Output:\n",
    "###### If the file is not empty:"
   ]
  },
  {
   "cell_type": "code",
   "execution_count": null,
   "id": "0db4e110",
   "metadata": {},
   "outputs": [],
   "source": [
    "File content:This is some text in the file.\n"
   ]
  },
  {
   "cell_type": "markdown",
   "id": "bda99dcd",
   "metadata": {},
   "source": [
    "###### If the file is empty:"
   ]
  },
  {
   "cell_type": "code",
   "execution_count": null,
   "id": "9924eb65",
   "metadata": {},
   "outputs": [],
   "source": [
    "The file is empty.\n"
   ]
  },
  {
   "cell_type": "markdown",
   "id": "f495626e",
   "metadata": {},
   "source": [
    "###### If the file doesn't exist:"
   ]
  },
  {
   "cell_type": "code",
   "execution_count": null,
   "id": "9aa84e6c",
   "metadata": {},
   "outputs": [],
   "source": [
    "Error: The file 'example.txt' does not exist.\n"
   ]
  },
  {
   "cell_type": "markdown",
   "id": "e598a0b0",
   "metadata": {},
   "source": [
    "This program efficiently handles the case where the file is empty and provides meaningful feedback for various situations (e.g., file not found, empty file)."
   ]
  },
  {
   "cell_type": "markdown",
   "id": "6e9c937a",
   "metadata": {},
   "source": [
    "# Q16.Demonstrate how to use memory profiling to check the memory usage of a small program?"
   ]
  },
  {
   "cell_type": "markdown",
   "id": "887544dc",
   "metadata": {},
   "source": [
    "Memory profiling is a technique used to monitor the memory consumption of a program during execution. In Python, we can use libraries such as memory_profiler to check the memory usage.\n",
    "\n",
    "#### Steps to Use Memory Profiling:\n",
    "1. Install memory_profiler: First, you need to install the memory_profiler package. You can install it using pip:"
   ]
  },
  {
   "cell_type": "code",
   "execution_count": null,
   "id": "991df3a0",
   "metadata": {},
   "outputs": [],
   "source": [
    "pip install memory-profiler\n"
   ]
  },
  {
   "cell_type": "markdown",
   "id": "22347b43",
   "metadata": {},
   "source": [
    "2.Use the @profile Decorator: You can use the @profile decorator from the memory_profiler module to track memory usage for specific functions.\n",
    "\n",
    "3.Run the Script with mprof: To view the memory usage of your script, you can use the mprof command.\n",
    "\n",
    "#### Example Program with Memory Profiling:"
   ]
  },
  {
   "cell_type": "code",
   "execution_count": null,
   "id": "6a5d651d",
   "metadata": {},
   "outputs": [],
   "source": [
    "from memory_profiler import profile\n",
    "\n",
    "# Function that will be profiled\n",
    "@profile\n",
    "def my_function():\n",
    "    a = [i for i in range(10000)]  # Create a large list\n",
    "    b = [i * 2 for i in range(10000)]  # Create another large list\n",
    "    c = sum(a)  # Some processing with the list\n",
    "    return c\n",
    "\n",
    "if __name__ == \"__main__\":\n",
    "    my_function()\n"
   ]
  },
  {
   "cell_type": "markdown",
   "id": "fa476045",
   "metadata": {},
   "source": [
    "##### How to Run the Program:\n",
    "\n",
    "1.Save the program in a Python file, e.g., memory_profile_example.py.\n",
    "\n",
    "2.Run the script using the following command:\n",
    "\n",
    "\n"
   ]
  },
  {
   "cell_type": "code",
   "execution_count": null,
   "id": "1be30f9e",
   "metadata": {},
   "outputs": [],
   "source": [
    "python -m memory_profiler memory_profile_example.py\n"
   ]
  },
  {
   "cell_type": "markdown",
   "id": "702f20ea",
   "metadata": {},
   "source": [
    "#### Output:\n",
    "You should see memory usage statistics printed for the my_function:"
   ]
  },
  {
   "cell_type": "code",
   "execution_count": null,
   "id": "bd0fbd8f",
   "metadata": {},
   "outputs": [],
   "source": [
    "Line #    Mem usage    Increment   Line Contents\n",
    "================================================\n",
    "     4     16.3 MiB     16.3 MiB   @profile\n",
    "     5     16.3 MiB      0.0 MiB   def my_function():\n",
    "     6     20.2 MiB      3.9 MiB       a = [i for i in range(10000)]  # Create a large list\n",
    "     7     24.3 MiB      4.1 MiB       b = [i * 2 for i in range(10000)]  # Create another large list\n",
    "     8     24.3 MiB      0.0 MiB       c = sum(a)  # Some processing with the list\n",
    "     9     24.3 MiB      0.0 MiB       return c\n"
   ]
  },
  {
   "cell_type": "markdown",
   "id": "d71af0fa",
   "metadata": {},
   "source": [
    "#### Explanation of the Output:\n",
    "Mem usage: This column shows the memory usage at each line of code.\n",
    "\n",
    "Increment: This column shows the memory increment between lines.\n",
    "\n",
    "Line Contents: This is the actual code at each line.\n",
    "\n",
    "#### Key Points:\n",
    "\n",
    "@profile: The decorator is used to mark the function to be profiled. It will display memory usage during the execution of that  \n",
    "function.\n",
    "\n",
    "memory_profiler: This module is very useful for profiling memory usage in Python. It shows both the total memory usage and how it changes between lines of code.\n",
    "\n",
    "By using memory_profiler, you can gain insight into how much memory your program uses and which parts of your program consume the most memory. This can help optimize memory usage, especially in memory-intensive applications."
   ]
  },
  {
   "cell_type": "markdown",
   "id": "18bf26f5",
   "metadata": {},
   "source": [
    "# Q17. F Write a Python program to create and write a list of numbers to a file, one number per line?"
   ]
  },
  {
   "cell_type": "markdown",
   "id": "ae95bf42",
   "metadata": {},
   "source": [
    "Here's a Python program that creates a list of numbers and writes each number to a file, one number per line:"
   ]
  },
  {
   "cell_type": "code",
   "execution_count": null,
   "id": "8cbea60d",
   "metadata": {},
   "outputs": [],
   "source": [
    "def write_numbers_to_file(file_name, numbers):\n",
    "    try:\n",
    "        with open(file_name, 'w') as file:\n",
    "            for number in numbers:\n",
    "                file.write(f\"{number}\\n\")  # Write each number on a new line\n",
    "        print(f\"Numbers successfully written to '{file_name}'.\")\n",
    "    except IOError as e:\n",
    "        print(f\"An error occurred while writing to the file: {e}\")\n",
    "\n",
    "# Example usage\n",
    "numbers = [1, 2, 3, 4, 5, 6, 7, 8, 9, 10]  # List of numbers to write to the file\n",
    "file_name = \"numbers.txt\"  # Replace with your desired file name\n",
    "\n",
    "write_numbers_to_file(file_name, numbers)\n"
   ]
  },
  {
   "cell_type": "markdown",
   "id": "becc09b0",
   "metadata": {},
   "source": [
    "### Explanation:\n",
    "#### Opening the File:\n",
    "\n",
    "The file is opened in 'w' (write) mode. If the file already exists, it will be overwritten. If it doesn't exist, it will be created.\n",
    "\n",
    "#### Writing to the File:\n",
    "\n",
    "The program loops through the numbers list, writing each number followed by a newline character (\\n) to ensure each number appears on a separate line.\n",
    "\n",
    "#### Error Handling:\n",
    "\n",
    "The except block catches IOError if any issues arise while writing to the file (e.g., permission issues).\n",
    "\n",
    "### Example Output (in numbers.txt):"
   ]
  },
  {
   "cell_type": "code",
   "execution_count": null,
   "id": "9a06231e",
   "metadata": {},
   "outputs": [],
   "source": [
    "1\n",
    "2\n",
    "3\n",
    "4\n",
    "5\n",
    "6\n",
    "7\n",
    "8\n",
    "9\n",
    "10\n"
   ]
  },
  {
   "cell_type": "markdown",
   "id": "5146b501",
   "metadata": {},
   "source": [
    "This program will create a file named numbers.txt (or the file name you provide) and write the list of numbers to the file, one per line."
   ]
  },
  {
   "cell_type": "markdown",
   "id": "f1f50742",
   "metadata": {},
   "source": [
    "# Q18.How would you implement a basic logging setup that logs to a file with rotation after 1MB?"
   ]
  },
  {
   "cell_type": "markdown",
   "id": "9e6d296e",
   "metadata": {},
   "source": [
    "To implement a basic logging setup in Python that logs to a file with rotation after the file reaches 1MB, you can use the logging module along with logging.handlers.RotatingFileHandler.\n",
    "\n",
    "The RotatingFileHandler automatically handles log rotation, creating a new log file when the current log file reaches the specified size.\n",
    "\n",
    "#### Steps:\n",
    "1.Import necessary modules from logging.\n",
    "\n",
    "2.Set up the logging configuration to use RotatingFileHandler.\n",
    "\n",
    "3.Set the log file size limit to 1MB (1,048,576 bytes).\n",
    "\n",
    "4.Define the log format and logging level.\n",
    "\n",
    "Here's a Python program to demonstrate this:"
   ]
  },
  {
   "cell_type": "code",
   "execution_count": null,
   "id": "42f5cc52",
   "metadata": {},
   "outputs": [],
   "source": [
    "import logging\n",
    "from logging.handlers import RotatingFileHandler\n",
    "\n",
    "# Define the log file and max size (1MB = 1048576 bytes)\n",
    "log_file = \"app.log\"\n",
    "max_log_size = 1048576  # 1MB\n",
    "backup_count = 3  # Number of backup log files to keep\n",
    "\n",
    "# Set up the logging configuration\n",
    "logger = logging.getLogger()  # Get the root logger\n",
    "logger.setLevel(logging.INFO)  # Set the logging level to INFO\n",
    "\n",
    "# Create a rotating file handler\n",
    "handler = RotatingFileHandler(\n",
    "    log_file, maxBytes=max_log_size, backupCount=backup_count\n",
    ")\n",
    "handler.setLevel(logging.INFO)\n",
    "\n",
    "# Define the log format\n",
    "formatter = logging.Formatter('%(asctime)s - %(levelname)s - %(message)s')\n",
    "handler.setFormatter(formatter)\n",
    "\n",
    "# Add the handler to the logger\n",
    "logger.addHandler(handler)\n",
    "\n",
    "# Example log messages\n",
    "def log_example():\n",
    "    for i in range(10000):\n",
    "        logger.info(f\"This is log message #{i}\")\n",
    "\n",
    "log_example()\n"
   ]
  },
  {
   "cell_type": "markdown",
   "id": "8f55d131",
   "metadata": {},
   "source": [
    "#### Explanation:\n",
    "\n",
    "#### 1.RotatingFileHandler:\n",
    "\n",
    "log_file: The name of the log file where logs will be written (\"app.log\").\n",
    "\n",
    "maxBytes=max_log_size: Specifies the maximum size of the log file. Once this size is exceeded, the log file will be rotated.\n",
    "\n",
    "backupCount=3: The number of backup log files to keep. When the log file reaches the size limit, the current log file is renamed, and a new log file is created. Old log files are kept as backups (e.g., app.log.1, app.log.2, etc.).\n",
    "\n",
    "##### 2. Log Format:\n",
    "\n",
    "formatter = logging.Formatter('%(asctime)s - %(levelname)s - %(message)s'): This sets the format for the log entries, which will include the timestamp, log level, and the actual log message.\n",
    "\n",
    "##### 3.Log Level:\n",
    "\n",
    "logger.setLevel(logging.INFO): This sets the logging level to INFO, so messages of level INFO or higher will be logged.\n",
    "\n",
    "##### 4.Log Example:\n",
    "\n",
    "log_example() writes 10,000 informational log messages. When the file exceeds 1MB, it will be rotated.\n",
    "\n",
    "#### Result:\n",
    "\n",
    "Log File (app.log): Initially stores the log messages until it reaches 1MB.\n",
    "\n",
    "Backup Files: After the log file reaches the size limit, it gets renamed (e.g., app.log.1, app.log.2, etc.), and a new app.log is created.\n",
    "\n",
    "##### Example Log Entry:"
   ]
  },
  {
   "cell_type": "code",
   "execution_count": null,
   "id": "6f0d555c",
   "metadata": {},
   "outputs": [],
   "source": [
    "2024-12-08 14:30:00,123 - INFO - This is log message #1\n",
    "2024-12-08 14:30:00,124 - INFO - This is log message #2\n"
   ]
  },
  {
   "cell_type": "markdown",
   "id": "7d647b4c",
   "metadata": {},
   "source": [
    "Key Points:\n",
    "\n",
    "Rotation: The log file is automatically rotated when it exceeds the size limit.\n",
    "\n",
    "Backup Count: You can specify how many rotated log files to keep.\n",
    "\n",
    "Flexible Log Format: You can adjust the log format to include more information, such as function names or line numbers, based on your needs.\n",
    "\n",
    "\n",
    "\n",
    "\n",
    "\n"
   ]
  },
  {
   "cell_type": "markdown",
   "id": "7ff35bf3",
   "metadata": {},
   "source": [
    "# Q19. Write a program that handles both IndexError and KeyError using a try-except block?"
   ]
  },
  {
   "cell_type": "markdown",
   "id": "bcc64c65",
   "metadata": {},
   "source": [
    "Here's a Python program that demonstrates handling both IndexError and KeyError using a try-except block:"
   ]
  },
  {
   "cell_type": "code",
   "execution_count": null,
   "id": "4904ff54",
   "metadata": {},
   "outputs": [],
   "source": [
    "def handle_errors():\n",
    "    my_list = [1, 2, 3, 4, 5]\n",
    "    my_dict = {'a': 1, 'b': 2, 'c': 3}\n",
    "\n",
    "    try:\n",
    "        # Example of IndexError: Trying to access an index out of range\n",
    "        index = 10\n",
    "        print(f\"Element at index {index}: {my_list[index]}\")\n",
    "\n",
    "        # Example of KeyError: Trying to access a key that doesn't exist in the dictionary\n",
    "        key = 'd'\n",
    "        print(f\"Value for key '{key}': {my_dict[key]}\")\n",
    "        \n",
    "    except IndexError as ie:\n",
    "        print(f\"IndexError occurred: {ie}\")\n",
    "    except KeyError as ke:\n",
    "        print(f\"KeyError occurred: {ke}\")\n",
    "    except Exception as e:\n",
    "        print(f\"An unexpected error occurred: {e}\")\n",
    "\n",
    "# Example usage\n",
    "handle_errors()\n"
   ]
  },
  {
   "cell_type": "markdown",
   "id": "377f5c2b",
   "metadata": {},
   "source": [
    "### Explanation:\n",
    "###### my_list and my_dict:\n",
    "\n",
    "my_list is a list with 5 elements, and we try to access an index (10) that is out of range to trigger an IndexError.\n",
    "\n",
    "my_dict is a dictionary with keys 'a', 'b', and 'c'. We try to access a key ('d') that doesn't exist, which triggers a KeyError.\n",
    "\n",
    "###### try block:\n",
    "\n",
    "Inside the try block, we attempt to access an invalid index in the list and a non-existing key in the dictionary.\n",
    "\n",
    "###### except blocks:\n",
    "\n",
    "IndexError: Catches the error when an invalid index is accessed in the list.\n",
    "\n",
    "KeyError: Catches the error when a non-existing key is accessed in the dictionary.\n",
    "\n",
    "Exception: Catches any other unexpected errors, though this is not expected to occur in this example.\n",
    "\n",
    "#### Example Output:\n"
   ]
  },
  {
   "cell_type": "code",
   "execution_count": null,
   "id": "700e4579",
   "metadata": {},
   "outputs": [],
   "source": [
    "IndexError occurred: list index out of range\n"
   ]
  },
  {
   "cell_type": "markdown",
   "id": "a905f9d7",
   "metadata": {},
   "source": [
    "If the IndexError was handled first, the program would not attempt to access the dictionary, so the KeyError wouldn't be raised. If you swap the except blocks or handle one error before the other, the program will still work appropriately for each case.\n",
    "\n",
    "#### Key Points:\n",
    "IndexError occurs when trying to access an invalid index in a list or other sequence.\n",
    "\n",
    "KeyError occurs when trying to access a key that does not exist in a dictionary.\n",
    "\n",
    "Multiple except blocks allow handling different types of errors separately."
   ]
  },
  {
   "cell_type": "markdown",
   "id": "038a0e85",
   "metadata": {},
   "source": [
    "# Q20.How would you open a file and read its contents using a context manager in Python?"
   ]
  },
  {
   "cell_type": "markdown",
   "id": "f8853155",
   "metadata": {},
   "source": [
    "To open a file and read its contents using a context manager in Python, you can use the with statement. This ensures that the file is properly opened and closed, even if an exception occurs during the file operation.\n",
    "\n",
    "Here’s an example:"
   ]
  },
  {
   "cell_type": "code",
   "execution_count": null,
   "id": "d9d3b603",
   "metadata": {},
   "outputs": [],
   "source": [
    "def read_file(file_name):\n",
    "    try:\n",
    "        # Using 'with' to open the file and automatically close it after reading\n",
    "        with open(file_name, 'r') as file:\n",
    "            content = file.read()  # Read the entire content of the file\n",
    "            print(\"File content:\")\n",
    "            print(content)\n",
    "    except FileNotFoundError:\n",
    "        print(f\"Error: The file '{file_name}' does not exist.\")\n",
    "    except IOError as e:\n",
    "        print(f\"An error occurred while reading the file: {e}\")\n",
    "\n",
    "# Example usage\n",
    "file_name = \"example.txt\"  # Replace with the actual file name\n",
    "read_file(file_name)\n"
   ]
  },
  {
   "cell_type": "markdown",
   "id": "06a6d372",
   "metadata": {},
   "source": [
    "### Explanation:\n",
    "###### 1.with open(file_name, 'r') as file:\n",
    "\n",
    "The with statement is used to open the file in read mode ('r'). The open() function returns a file object, and this object is automatically closed when the with block is exited.\n",
    "\n",
    "###### Reading the File:\n",
    "\n",
    "file.read() reads the entire content of the file into a string. You could also use file.readline() or file.readlines() to read the file line by line if needed.\n",
    "\n",
    "###### Error Handling:\n",
    "\n",
    "FileNotFoundError is caught if the file does not exist.\n",
    "IOError handles other potential issues, like permission errors or file reading issues.\n",
    "\n",
    "#### Example Output:\n",
    "\n",
    "###### If the file example.txt contains:"
   ]
  },
  {
   "cell_type": "code",
   "execution_count": null,
   "id": "adb0a177",
   "metadata": {},
   "outputs": [],
   "source": [
    "Hello, World!\n",
    "This is a test file.\n"
   ]
  },
  {
   "cell_type": "markdown",
   "id": "f0c03034",
   "metadata": {},
   "source": [
    "###### The output will be:"
   ]
  },
  {
   "cell_type": "code",
   "execution_count": null,
   "id": "9fd6ce2c",
   "metadata": {},
   "outputs": [],
   "source": [
    "File content:\n",
    "Hello, World!\n",
    "This is a test file.\n"
   ]
  },
  {
   "cell_type": "markdown",
   "id": "aa53091b",
   "metadata": {},
   "source": [
    "#### Key Points:\n",
    "Automatic Resource Management: The file is automatically closed when the with block is exited, ensuring proper cleanup.\n",
    "\n",
    "Exception Handling: If the file doesn't exist or an I/O error occurs, appropriate error messages will be displayed."
   ]
  },
  {
   "cell_type": "markdown",
   "id": "414b6a82",
   "metadata": {},
   "source": [
    "# Q21.Write a Python program that reads a file and prints the number of occurrences of a specific word?"
   ]
  },
  {
   "cell_type": "markdown",
   "id": "fb1f00fb",
   "metadata": {},
   "source": [
    "Here’s a Python program that reads a file and prints the number of occurrences of a specific word:"
   ]
  },
  {
   "cell_type": "code",
   "execution_count": null,
   "id": "f7ca8d3f",
   "metadata": {},
   "outputs": [],
   "source": [
    "def count_word_occurrences(file_name, word):\n",
    "    try:\n",
    "        # Open the file in read mode using a context manager\n",
    "        with open(file_name, 'r') as file:\n",
    "            content = file.read()  # Read the entire content of the file\n",
    "\n",
    "        # Count the occurrences of the word in the content (case-sensitive)\n",
    "        word_count = content.lower().split().count(word.lower())\n",
    "\n",
    "        print(f\"The word '{word}' appears {word_count} times in the file.\")\n",
    "\n",
    "    except FileNotFoundError:\n",
    "        print(f\"Error: The file '{file_name}' does not exist.\")\n",
    "    except IOError as e:\n",
    "        print(f\"An error occurred while reading the file: {e}\")\n",
    "\n",
    "# Example usage\n",
    "file_name = \"example.txt\"  # Replace with your file name\n",
    "word_to_count = \"hello\"  # Replace with the word you want to count\n",
    "count_word_occurrences(file_name, word_to_count)\n"
   ]
  },
  {
   "cell_type": "markdown",
   "id": "2a9bc870",
   "metadata": {},
   "source": [
    "### Explanation:\n",
    "##### 1.Opening the File:\n",
    "\n",
    "The file is opened using a context manager (with open(file_name, 'r')). This ensures the file is automatically closed when the block exits.\n",
    "\n",
    "##### 2.Reading the Content:\n",
    "\n",
    "content = file.read() reads the entire content of the file into a string.\n",
    "\n",
    "##### 3.Counting Word Occurrences:\n",
    "\n",
    "content.lower().split() converts the entire content of the file to lowercase and splits it into a list of words.\n",
    ".count(word.lower()) counts the occurrences of the specified word (case-insensitive).\n",
    "\n",
    "##### 4.Error Handling:\n",
    "\n",
    "FileNotFoundError is caught if the file doesn’t exist.\n",
    "\n",
    "IOError handles any other potential errors while reading the file.\n",
    "\n",
    "#### Example:\n",
    "###### Assuming the file example.txt contains:"
   ]
  },
  {
   "cell_type": "code",
   "execution_count": null,
   "id": "6671c194",
   "metadata": {},
   "outputs": [],
   "source": [
    "Hello, world!\n",
    "Hello again!\n",
    "Hello, how are you?\n"
   ]
  },
  {
   "cell_type": "markdown",
   "id": "b62819c4",
   "metadata": {},
   "source": [
    "###### If the word to count is \"hello\", the output would be:"
   ]
  },
  {
   "cell_type": "code",
   "execution_count": null,
   "id": "cd930a0f",
   "metadata": {},
   "outputs": [],
   "source": [
    "The word 'hello' appears 3 times in the file.\n"
   ]
  },
  {
   "cell_type": "markdown",
   "id": "4bbbbb96",
   "metadata": {},
   "source": [
    "#### Key Notes:\n",
    "Case-Insensitive Counting: The program converts both the content and the word to lowercase to ensure case-insensitive counting.\n",
    "\n",
    "Word Boundary: The program uses split() to break the text into words. This can be adjusted to handle punctuation or more complex word boundaries."
   ]
  },
  {
   "cell_type": "markdown",
   "id": "ffbaa527",
   "metadata": {},
   "source": [
    "# Q22.How can you check if a file is empty before attempting to read its contents?"
   ]
  },
  {
   "cell_type": "markdown",
   "id": "b051ba29",
   "metadata": {},
   "source": [
    "To check if a file is empty before attempting to read its contents in Python, you can use one of the following methods:\n",
    "\n",
    "#### Method 1: Using os.path.getsize()\n",
    "\n",
    "You can use the os.path.getsize() function to check if the file size is zero. If the file size is zero, it is empty."
   ]
  },
  {
   "cell_type": "code",
   "execution_count": null,
   "id": "8ea94417",
   "metadata": {},
   "outputs": [],
   "source": [
    "import os\n",
    "\n",
    "def is_file_empty(file_name):\n",
    "    # Check if the file exists and if its size is 0\n",
    "    if os.path.exists(file_name):\n",
    "        if os.path.getsize(file_name) == 0:\n",
    "            print(f\"The file '{file_name}' is empty.\")\n",
    "            return True\n",
    "        else:\n",
    "            print(f\"The file '{file_name}' is not empty.\")\n",
    "            return False\n",
    "    else:\n",
    "        print(f\"The file '{file_name}' does not exist.\")\n",
    "        return False\n",
    "\n",
    "# Example usage\n",
    "file_name = \"example.txt\"  # Replace with your file name\n",
    "is_file_empty(file_name)\n"
   ]
  },
  {
   "cell_type": "markdown",
   "id": "c05e50c5",
   "metadata": {},
   "source": [
    "#### Method 2: Try Reading the File\n",
    "You can also open the file and attempt to read it. If the file is empty, reading it will return an empty string."
   ]
  },
  {
   "cell_type": "code",
   "execution_count": null,
   "id": "4eef2a88",
   "metadata": {},
   "outputs": [],
   "source": [
    "def is_file_empty(file_name):\n",
    "    try:\n",
    "        with open(file_name, 'r') as file:\n",
    "            content = file.read().strip()  # Remove leading/trailing whitespace\n",
    "            if not content:\n",
    "                print(f\"The file '{file_name}' is empty.\")\n",
    "                return True\n",
    "            else:\n",
    "                print(f\"The file '{file_name}' is not empty.\")\n",
    "                return False\n",
    "    except FileNotFoundError:\n",
    "        print(f\"The file '{file_name}' does not exist.\")\n",
    "        return False\n",
    "    except IOError as e:\n",
    "        print(f\"An error occurred while reading the file: {e}\")\n",
    "        return False\n",
    "\n",
    "# Example usage\n",
    "file_name = \"example.txt\"  # Replace with your file name\n",
    "is_file_empty(file_name)\n"
   ]
  },
  {
   "cell_type": "markdown",
   "id": "52da07a0",
   "metadata": {},
   "source": [
    "### Explanation:\n",
    "##### Method 1: os.path.getsize():\n",
    "\n",
    "The os.path.getsize(file_name) function is used to get the size of the file in bytes.\n",
    "\n",
    "If the size is 0, it means the file is empty.\n",
    "\n",
    "##### Method 2: Reading the File:\n",
    "\n",
    "The with open(file_name, 'r') statement opens the file in read mode.\n",
    "\n",
    "The file.read().strip() method reads the entire content of the file, removes any leading and trailing whitespace, and checks if the content is empty. If it is empty, the file is considered empty.\n",
    "\n",
    "#### Error Handling:\n",
    "\n",
    "Both methods include error handling for cases when the file doesn't exist or an I/O error occurs.\n",
    "\n",
    "### Example Output:\n",
    "###### If example.txt is empty, the output for both methods will be:"
   ]
  },
  {
   "cell_type": "code",
   "execution_count": null,
   "id": "25d5c913",
   "metadata": {},
   "outputs": [],
   "source": [
    "The file 'example.txt' is empty.\n"
   ]
  },
  {
   "cell_type": "markdown",
   "id": "74879d11",
   "metadata": {},
   "source": [
    "###### If the file contains content, the output will be:"
   ]
  },
  {
   "cell_type": "code",
   "execution_count": null,
   "id": "0527351c",
   "metadata": {},
   "outputs": [],
   "source": [
    "The file 'example.txt' is not empty.\n"
   ]
  },
  {
   "cell_type": "markdown",
   "id": "96def605",
   "metadata": {},
   "source": [
    "###### If the file doesn't exist:"
   ]
  },
  {
   "cell_type": "code",
   "execution_count": null,
   "id": "31f19344",
   "metadata": {},
   "outputs": [],
   "source": [
    "The file 'example.txt' does not exist.\n"
   ]
  },
  {
   "cell_type": "markdown",
   "id": "c705350c",
   "metadata": {},
   "source": [
    "### Key Notes:\n",
    "Method 1 is quick and checks the file size without reading the content.\n",
    "\n",
    "Method 2 opens the file and reads its contents, which is useful if you plan to process the file further after checking if it is empty."
   ]
  },
  {
   "cell_type": "markdown",
   "id": "8d2ebabc",
   "metadata": {},
   "source": [
    "# Q23. Write a Python program that writes to a log file when an error occurs during file handling?"
   ]
  },
  {
   "cell_type": "markdown",
   "id": "7c09b3da",
   "metadata": {},
   "source": [
    "Here’s a Python program that handles errors during file operations and logs the error messages to a log file using the logging module:\n",
    "\n",
    "Python Program:"
   ]
  },
  {
   "cell_type": "code",
   "execution_count": null,
   "id": "94e10740",
   "metadata": {},
   "outputs": [],
   "source": [
    "import logging\n",
    "\n",
    "# Set up logging to log error messages to a log file\n",
    "logging.basicConfig(\n",
    "    filename='file_operations.log',  # Log file name\n",
    "    level=logging.ERROR,              # Log level (we are interested in errors)\n",
    "    format='%(asctime)s - %(levelname)s - %(message)s'  # Log message format\n",
    ")\n",
    "\n",
    "def read_file(file_name):\n",
    "    try:\n",
    "        # Attempt to open the file in read mode\n",
    "        with open(file_name, 'r') as file:\n",
    "            content = file.read()\n",
    "            print(content)\n",
    "    except FileNotFoundError:\n",
    "        # Log error if file is not found\n",
    "        logging.error(f\"File '{file_name}' not found.\")\n",
    "        print(f\"Error: The file '{file_name}' was not found.\")\n",
    "    except IOError as e:\n",
    "        # Log any other IO error\n",
    "        logging.error(f\"IOError occurred while reading file '{file_name}': {e}\")\n",
    "        print(f\"An error occurred while reading the file: {e}\")\n",
    "\n",
    "def write_to_file(file_name, data):\n",
    "    try:\n",
    "        # Attempt to open the file in write mode and write data\n",
    "        with open(file_name, 'w') as file:\n",
    "            file.write(data)\n",
    "            print(f\"Data written to '{file_name}'.\")\n",
    "    except IOError as e:\n",
    "        # Log error if there is an issue with file writing\n",
    "        logging.error(f\"IOError occurred while writing to file '{file_name}': {e}\")\n",
    "        print(f\"An error occurred while writing to the file: {e}\")\n",
    "\n",
    "# Example usage\n",
    "file_to_read = \"example.txt\"  # Replace with your file name\n",
    "file_to_write = \"output.txt\"  # Replace with your file name\n",
    "data_to_write = \"This is a test.\"  # Data to write\n",
    "\n",
    "# Trying to read from a file\n",
    "read_file(file_to_read)\n",
    "\n",
    "# Trying to write to a file\n",
    "write_to_file(file_to_write, data_to_write)\n"
   ]
  },
  {
   "cell_type": "markdown",
   "id": "267f76f7",
   "metadata": {},
   "source": [
    "### Explanation:\n",
    "##### Logging Configuration:\n",
    "\n",
    "logging.basicConfig() is used to set up logging. The logs are written to a file named 'file_operations.log'.\n",
    "\n",
    "level=logging.ERROR ensures that only error messages and higher severity messages are logged.\n",
    "\n",
    "format='%(asctime)s - %(levelname)s - %(message)s' formats the log messages to include the timestamp, log level (e.g., ERROR), \n",
    "and the actual log message.\n",
    "\n",
    "##### Error Handling in File Operations:\n",
    "\n",
    "The program attempts to read from a file and write to a file.\n",
    "\n",
    "If a FileNotFoundError occurs (e.g., if the file doesn’t exist), an error message is logged.\n",
    "\n",
    "If any IOError occurs (e.g., issues opening or reading/writing to the file), the error is logged.\n",
    "\n",
    "##### Logging Errors:\n",
    "\n",
    "Whenever an error occurs (such as the file not being found or an I/O error), the program logs the error with details, including the time the error occurred and the specific error message.\n",
    "\n",
    "#### Example Output:\n",
    "\n",
    "###### 1.If example.txt doesn't exist, the log file file_operations.log will contain:"
   ]
  },
  {
   "cell_type": "code",
   "execution_count": null,
   "id": "d5cee85b",
   "metadata": {},
   "outputs": [],
   "source": [
    "2024-12-08 10:00:00,000 - ERROR - File 'example.txt' not found.\n"
   ]
  },
  {
   "cell_type": "markdown",
   "id": "0971274c",
   "metadata": {},
   "source": [
    "###### 2.If there is an error while writing to output.txt, the log file might contain something like:"
   ]
  },
  {
   "cell_type": "code",
   "execution_count": null,
   "id": "e57fdda0",
   "metadata": {},
   "outputs": [],
   "source": [
    "2024-12-08 10:05:00,000 - ERROR - IOError occurred while writing to file 'output.txt': [Errno 13] Permission denied: 'output.txt'\n"
   ]
  },
  {
   "cell_type": "markdown",
   "id": "59aec471",
   "metadata": {},
   "source": [
    "### Key Points:\n",
    "\n",
    "Logging Level: By using logging.ERROR, the program only logs error messages and above (e.g., critical errors).\n",
    "\n",
    "File Handling: The program tries to read from and write to files, with proper exception handling for file-related errors.\n",
    "\n",
    "Log File: Errors are logged to a separate file (file_operations.log), so the standard output remains clean while maintaining a record of file operation issues."
   ]
  },
  {
   "cell_type": "markdown",
   "id": "177bd1a0",
   "metadata": {},
   "source": [
    "# THANK YOU"
   ]
  }
 ],
 "metadata": {
  "kernelspec": {
   "display_name": "Python 3 (ipykernel)",
   "language": "python",
   "name": "python3"
  },
  "language_info": {
   "codemirror_mode": {
    "name": "ipython",
    "version": 3
   },
   "file_extension": ".py",
   "mimetype": "text/x-python",
   "name": "python",
   "nbconvert_exporter": "python",
   "pygments_lexer": "ipython3",
   "version": "3.12.7"
  }
 },
 "nbformat": 4,
 "nbformat_minor": 5
}
